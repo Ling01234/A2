{
 "cells": [
  {
   "attachments": {},
   "cell_type": "markdown",
   "metadata": {},
   "source": [
    "# Assignment 2\n",
    "# Ling Fei Zhang, 260985358\n",
    "# Brandon Ma, ID"
   ]
  },
  {
   "attachments": {},
   "cell_type": "markdown",
   "metadata": {},
   "source": [
    "## Question 1"
   ]
  },
  {
   "cell_type": "code",
   "execution_count": 1,
   "metadata": {},
   "outputs": [
    {
     "name": "stderr",
     "output_type": "stream",
     "text": [
      "c:\\Users\\Ling0\\AppData\\Local\\Programs\\Python\\Python310\\lib\\site-packages\\tqdm\\auto.py:22: TqdmWarning: IProgress not found. Please update jupyter and ipywidgets. See https://ipywidgets.readthedocs.io/en/stable/user_install.html\n",
      "  from .autonotebook import tqdm as notebook_tqdm\n"
     ]
    }
   ],
   "source": [
    "import numpy as np\n",
    "import matplotlib.pyplot as plt\n",
    "from functions import SARSA, visualize\n",
    "import time\n",
    "import gymnasium as gym\n"
   ]
  },
  {
   "attachments": {},
   "cell_type": "markdown",
   "metadata": {},
   "source": [
    "Here, we will set a few parameters for our environment."
   ]
  },
  {
   "cell_type": "code",
   "execution_count": 2,
   "metadata": {},
   "outputs": [],
   "source": [
    "ALPHAS = [0.01, 0.1, 0.2]\n",
    "GAMMA = 0.9\n",
    "TEMPERATURE = [1, 10, 100]\n",
    "EPISODES = 5500\n",
    "RUNS = 10\n"
   ]
  },
  {
   "attachments": {},
   "cell_type": "markdown",
   "metadata": {},
   "source": [
    "Driver Code to test out the combination of each alpha with each temperature for SARSA."
   ]
  },
  {
   "cell_type": "code",
   "execution_count": 3,
   "metadata": {},
   "outputs": [
    {
     "name": "stderr",
     "output_type": "stream",
     "text": [
      "100%|██████████| 5500/5500 [00:01<00:00, 3165.77it/s]\n"
     ]
    },
    {
     "name": "stdout",
     "output_type": "stream",
     "text": [
      "[1. 2. 1. 0. 1. 1. 1. 1. 2. 1. 1. 2. 2. 2. 2. 0.]\n"
     ]
    },
    {
     "ename": "KeyboardInterrupt",
     "evalue": "",
     "output_type": "error",
     "traceback": [
      "\u001b[1;31m---------------------------------------------------------------------------\u001b[0m",
      "\u001b[1;31mKeyboardInterrupt\u001b[0m                         Traceback (most recent call last)",
      "Cell \u001b[1;32mIn [3], line 9\u001b[0m\n\u001b[0;32m      6\u001b[0m final_policy \u001b[39m=\u001b[39m sarsa\u001b[39m.\u001b[39mlearned_policy\n\u001b[0;32m      7\u001b[0m \u001b[39mprint\u001b[39m(final_policy)\n\u001b[1;32m----> 9\u001b[0m visualize(final_policy, \u001b[39m10\u001b[39;49m)\n",
      "File \u001b[1;32mc:\\Users\\Ling0\\Dropbox\\School\\McGill\\Winter 2023\\COMP 579\\A2\\functions.py:114\u001b[0m, in \u001b[0;36mvisualize\u001b[1;34m(learned_policy, num_games)\u001b[0m\n\u001b[0;32m    111\u001b[0m \u001b[39mif\u001b[39;00m \u001b[39mnot\u001b[39;00m terminal:\n\u001b[0;32m    112\u001b[0m     (state, reward, terminal, _, _) \u001b[39m=\u001b[39m env\u001b[39m.\u001b[39mstep(\n\u001b[0;32m    113\u001b[0m         \u001b[39mint\u001b[39m(learned_policy[state]))\n\u001b[1;32m--> 114\u001b[0m     time\u001b[39m.\u001b[39;49msleep(\u001b[39m1\u001b[39;49m)\n\u001b[0;32m    115\u001b[0m \u001b[39melse\u001b[39;00m:  \u001b[39m# reached terminal state\u001b[39;00m\n\u001b[0;32m    116\u001b[0m     \u001b[39mbreak\u001b[39;00m\n",
      "\u001b[1;31mKeyboardInterrupt\u001b[0m: "
     ]
    }
   ],
   "source": [
    "env = gym.make(\"FrozenLake-v1\", desc=None, map_name=\"4x4\", is_slippery=False)\n",
    "env.reset()\n",
    "sarsa = SARSA(env, 0.1, 1, GAMMA, EPISODES, False)\n",
    "# print(type(env.action_space.n))\n",
    "sarsa.simulate_episodes()\n",
    "final_policy = sarsa.learned_policy\n",
    "print(final_policy)\n",
    "\n",
    "visualize(final_policy, 10)"
   ]
  },
  {
   "cell_type": "code",
   "execution_count": 22,
   "metadata": {},
   "outputs": [],
   "source": [
    "for alpha in ALPHAS:\n",
    "    for temp in TEMPERATURE:\n",
    "        env = gym.make(\"FrozenLake-v1\", desc=None, map_name=\"4x4\", is_slippery=False)\n",
    "        env.reset()\n",
    "        sarsa = SARSA(env, alpha, temp, GAMMA, EPISODES, False)"
   ]
  },
  {
   "attachments": {},
   "cell_type": "markdown",
   "metadata": {},
   "source": [
    "### Effect of parameters on final training performance for SARSA"
   ]
  },
  {
   "attachments": {},
   "cell_type": "markdown",
   "metadata": {},
   "source": [
    "### Effect of parameters on final testing performance for SARSA"
   ]
  },
  {
   "attachments": {},
   "cell_type": "markdown",
   "metadata": {},
   "source": [
    "### Best parameter for SARSA"
   ]
  },
  {
   "attachments": {},
   "cell_type": "markdown",
   "metadata": {},
   "source": [
    "### Conclusion for SARSA"
   ]
  },
  {
   "attachments": {},
   "cell_type": "markdown",
   "metadata": {},
   "source": [
    "### Effect of parameters on final training performance for EXPECTED SARSA"
   ]
  },
  {
   "attachments": {},
   "cell_type": "markdown",
   "metadata": {},
   "source": [
    "### Effect of parameters on final testing performance for EXPECTED SARSA"
   ]
  },
  {
   "attachments": {},
   "cell_type": "markdown",
   "metadata": {},
   "source": [
    "### Best parameter for EXPECTED SARSA"
   ]
  },
  {
   "attachments": {},
   "cell_type": "markdown",
   "metadata": {},
   "source": [
    "### Conclusion for EXPECTED SARSA"
   ]
  }
 ],
 "metadata": {
  "kernelspec": {
   "display_name": "Python 3",
   "language": "python",
   "name": "python3"
  },
  "language_info": {
   "codemirror_mode": {
    "name": "ipython",
    "version": 3
   },
   "file_extension": ".py",
   "mimetype": "text/x-python",
   "name": "python",
   "nbconvert_exporter": "python",
   "pygments_lexer": "ipython3",
   "version": "3.10.5"
  },
  "orig_nbformat": 4,
  "vscode": {
   "interpreter": {
    "hash": "e3d3e4707f60ffaaacd6e389ee44d1fd745b7ad4844b788f4dcb039c8e594976"
   }
  }
 },
 "nbformat": 4,
 "nbformat_minor": 2
}
