{
 "cells": [
  {
   "attachments": {},
   "cell_type": "markdown",
   "metadata": {},
   "source": [
    "# Assignment 2\n",
    "# Ling Fei Zhang, 260985358\n",
    "# Brandon Ma, 260983550"
   ]
  },
  {
   "attachments": {},
   "cell_type": "markdown",
   "metadata": {},
   "source": [
    "## Question 1"
   ]
  },
  {
   "cell_type": "code",
   "execution_count": 2,
   "metadata": {},
   "outputs": [],
   "source": [
    "import numpy as np\n",
    "import matplotlib.pyplot as plt\n",
    "from functions import SARSA\n",
    "import time\n",
    "import gymnasium as gym\n"
   ]
  },
  {
   "attachments": {},
   "cell_type": "markdown",
   "metadata": {},
   "source": [
    "Here, we will set a few parameters for our environment."
   ]
  },
  {
   "cell_type": "code",
   "execution_count": 3,
   "metadata": {},
   "outputs": [],
   "source": [
    "ALPHAS = [0.01, 0.1, 0.2]\n",
    "GAMMA = 0.9\n",
    "TEMPERATURE = [1, 10, 100]\n",
    "EPISODES = 5500\n",
    "SEEDS = np.arange(10)\n"
   ]
  },
  {
   "attachments": {},
   "cell_type": "markdown",
   "metadata": {},
   "source": [
    "Driver Code to test out the combination of each alpha with each temperature for SARSA."
   ]
  },
  {
   "cell_type": "code",
   "execution_count": 6,
   "metadata": {},
   "outputs": [
    {
     "name": "stderr",
     "output_type": "stream",
     "text": [
      "100%|██████████| 5500/5500 [00:01<00:00, 4467.81it/s]"
     ]
    },
    {
     "name": "stdout",
     "output_type": "stream",
     "text": [
      "final policy:\n",
      " [[2. 2. 1. 0.]\n",
      " [1. 1. 1. 2.]\n",
      " [2. 1. 1. 0.]\n",
      " [0. 2. 2. 0.]]\n"
     ]
    },
    {
     "name": "stderr",
     "output_type": "stream",
     "text": [
      "\n"
     ]
    }
   ],
   "source": [
    "env = gym.make(\"FrozenLake-v1\", desc=None, map_name=\"4x4\", is_slippery=False)\n",
    "env.reset()\n",
    "sarsa = SARSA(env, 0.1, 1, GAMMA, EPISODES, False)\n",
    "sarsa.simulate_episodes()\n",
    "final_policy = sarsa.learned_policy\n",
    "print(\"final policy:\\n\", final_policy.reshape(4,4)) #tabular format to better visualize\n",
    "# print(\"total reward: \", rewards)\n",
    "\n",
    "#uncomment this line if you want to vizualize the game\n",
    "# env.visualize(final_policy, 10)"
   ]
  },
  {
   "cell_type": "code",
   "execution_count": 22,
   "metadata": {},
   "outputs": [],
   "source": [
    "for alpha in ALPHAS:\n",
    "    for temp in TEMPERATURE:\n",
    "        env = gym.make(\"FrozenLake-v1\", desc=None, map_name=\"4x4\", is_slippery=False)\n",
    "        env.reset()\n",
    "        sarsa = SARSA(env, alpha, temp, GAMMA, EPISODES, False)"
   ]
  },
  {
   "attachments": {},
   "cell_type": "markdown",
   "metadata": {},
   "source": [
    "### Effect of parameters on final training performance for SARSA"
   ]
  },
  {
   "attachments": {},
   "cell_type": "markdown",
   "metadata": {},
   "source": [
    "### Effect of parameters on final testing performance for SARSA"
   ]
  },
  {
   "attachments": {},
   "cell_type": "markdown",
   "metadata": {},
   "source": [
    "### Best parameter for SARSA"
   ]
  },
  {
   "attachments": {},
   "cell_type": "markdown",
   "metadata": {},
   "source": [
    "### Conclusion for SARSA"
   ]
  },
  {
   "attachments": {},
   "cell_type": "markdown",
   "metadata": {},
   "source": [
    "### Effect of parameters on final training performance for EXPECTED SARSA"
   ]
  },
  {
   "attachments": {},
   "cell_type": "markdown",
   "metadata": {},
   "source": [
    "### Effect of parameters on final testing performance for EXPECTED SARSA"
   ]
  },
  {
   "attachments": {},
   "cell_type": "markdown",
   "metadata": {},
   "source": [
    "### Best parameter for EXPECTED SARSA"
   ]
  },
  {
   "attachments": {},
   "cell_type": "markdown",
   "metadata": {},
   "source": [
    "### Conclusion for EXPECTED SARSA"
   ]
  }
 ],
 "metadata": {
  "kernelspec": {
   "display_name": "Python 3",
   "language": "python",
   "name": "python3"
  },
  "language_info": {
   "codemirror_mode": {
    "name": "ipython",
    "version": 3
   },
   "file_extension": ".py",
   "mimetype": "text/x-python",
   "name": "python",
   "nbconvert_exporter": "python",
   "pygments_lexer": "ipython3",
   "version": "3.10.5"
  },
  "orig_nbformat": 4,
  "vscode": {
   "interpreter": {
    "hash": "e3d3e4707f60ffaaacd6e389ee44d1fd745b7ad4844b788f4dcb039c8e594976"
   }
  }
 },
 "nbformat": 4,
 "nbformat_minor": 2
}
